{
 "cells": [
  {
   "cell_type": "markdown",
   "metadata": {},
   "source": [
    "Codigo Adaptado del tutorial: https://github.com/intel-analytics/BigDL-Tutorials/blob/master/notebooks/neural_networks/cnn.ipynb"
   ]
  },
  {
   "cell_type": "code",
   "execution_count": 6,
   "metadata": {},
   "outputs": [],
   "source": [
    "import os\n",
    "import numpy as np\n",
    "\n",
    "\n",
    "# Lista archivos en el directorio de entrada\n",
    "#input_files = os.listdir('/workspace/input')\n",
    "#print(\"Archivos en /workspace/input:\", input_files)"
   ]
  },
  {
   "cell_type": "code",
   "execution_count": 7,
   "metadata": {},
   "outputs": [],
   "source": [
    "from __future__ import print_function\n",
    "import numpy as np\n",
    "from bigdl.nn.keras.topology import Sequential\n",
    "from bigdl.nn.keras.layer import *"
   ]
  },
  {
   "cell_type": "code",
   "execution_count": 8,
   "metadata": {},
   "outputs": [],
   "source": [
    "from bigdl.nn.criterion import *"
   ]
  },
  {
   "cell_type": "code",
   "execution_count": 14,
   "metadata": {},
   "outputs": [],
   "source": [
    "import numpy as np\n",
    "from pyspark import SparkConf, SparkContext\n",
    "from bigdl.nn.layer import *\n",
    "from bigdl.optim.optimizer import *\n",
    "from bigdl.util.common import init_engine, Sample\n",
    "import datetime as dt\n",
    "from sklearn.model_selection import train_test_split"
   ]
  },
  {
   "cell_type": "code",
   "execution_count": 11,
   "metadata": {},
   "outputs": [],
   "source": [
    "import matplotlib\n",
    "\n",
    "import pandas\n",
    "import datetime as dt\n",
    "\n",
    "from bigdl.nn.layer import *\n",
    "from bigdl.nn.criterion import *\n",
    "from bigdl.optim.optimizer import *\n",
    "from bigdl.util.common import *\n",
    "from bigdl.dataset.transformer import *\n",
    "from matplotlib.pyplot import imshow\n",
    "import matplotlib.pyplot as plt\n",
    "from pyspark import SparkContext\n",
    "sc=SparkContext.getOrCreate(conf=create_spark_conf().setMaster(\"local[4]\").set(\"spark.driver.memory\",\"2g\"))\n",
    "\n",
    "init_engine()"
   ]
  },
  {
   "cell_type": "markdown",
   "metadata": {},
   "source": [
    "## SESSION SPARK"
   ]
  },
  {
   "cell_type": "code",
   "execution_count": 2,
   "metadata": {},
   "outputs": [
    {
     "name": "stdout",
     "output_type": "stream",
     "text": [
      "PySpark version: 2.4.3\n"
     ]
    }
   ],
   "source": [
    "import pyspark\n",
    "print(\"PySpark version:\", pyspark.__version__)"
   ]
  },
  {
   "cell_type": "code",
   "execution_count": 22,
   "metadata": {},
   "outputs": [
    {
     "name": "stdout",
     "output_type": "stream",
     "text": [
      "train_images shape: (5663, 28, 28, 3)\n",
      "train_masks shape: (5663, 2)\n"
     ]
    }
   ],
   "source": [
    "# Ruta a los archivos .npy\n",
    "images_path = '/workspace/input/stage2_imagenes.npy'\n",
    "masks_path = '/workspace/input/stage2_etiquetas.npy'\n",
    "\n",
    "# Cargar los archivos .npy\n",
    "train_images = np.load(images_path)\n",
    "train_masks = np.load(masks_path)\n",
    "\n",
    "# Verificar las dimensiones de los datos cargados\n",
    "print(f\"train_images shape: {train_images.shape}\")\n",
    "print(f\"train_masks shape: {train_masks.shape}\")"
   ]
  },
  {
   "cell_type": "code",
   "execution_count": 23,
   "metadata": {},
   "outputs": [
    {
     "name": "stdout",
     "output_type": "stream",
     "text": [
      "train_masks shape after conversion: (5663,)\n",
      "train_masks unique values: [1 2]\n"
     ]
    }
   ],
   "source": [
    "# Convertir etiquetas de one-hot a índices de clase y ajustar el rango a [1, 2]\n",
    "train_masks = np.argmax(train_masks, axis=1).astype('int64') + 1\n",
    "\n",
    "# Verificar la conversión\n",
    "print(f\"train_masks shape after conversion: {train_masks.shape}\")  # (5663,)\n",
    "print(f\"train_masks unique values: {np.unique(train_masks)}\")  "
   ]
  },
  {
   "cell_type": "code",
   "execution_count": 24,
   "metadata": {},
   "outputs": [
    {
     "name": "stdout",
     "output_type": "stream",
     "text": [
      "train_images transposed shape: (5663, 3, 28, 28)\n",
      "train_imgs shape: (4530, 3, 28, 28)\n",
      "train_lbls shape: (4530,)\n",
      "val_imgs shape: (1133, 3, 28, 28)\n",
      "val_lbls shape: (1133,)\n"
     ]
    }
   ],
   "source": [
    "# b. Reordenar ejes de las imágenes de (N, H, W, C) a (N, C, H, W)\n",
    "train_images = train_images.transpose(0, 3, 1, 2).astype('float32') / 255.0\n",
    "\n",
    "print(f\"train_images transposed shape: {train_images.shape}\")  # (5663, 3, 28, 28)\n",
    "\n",
    "# c. Dividir en conjuntos de entrenamiento y validación\n",
    "train_imgs, val_imgs, train_lbls, val_lbls = train_test_split(\n",
    "    train_images, train_masks, test_size=0.2, random_state=42\n",
    ")\n",
    "\n",
    "print(f\"train_imgs shape: {train_imgs.shape}\")  # (4530, 3, 28, 28)\n",
    "print(f\"train_lbls shape: {train_lbls.shape}\")  # (4530,)\n",
    "print(f\"val_imgs shape: {val_imgs.shape}\")      # (1133, 3, 28, 28)\n",
    "print(f\"val_lbls shape: {val_lbls.shape}\")      # (1133,)\n",
    "\n",
    "# 3. Inicializar Spark y BigDL\n",
    "conf = SparkConf().setAppName(\"LenetTraining\").setMaster(\"local[*]\")  # Ajusta según tu entorno\n",
    "sc = SparkContext.getOrCreate(conf=conf)\n",
    "init_engine()\n"
   ]
  },
  {
   "cell_type": "markdown",
   "metadata": {},
   "source": [
    "## MODELO CNN"
   ]
  },
  {
   "cell_type": "code",
   "execution_count": 16,
   "metadata": {},
   "outputs": [
    {
     "name": "stdout",
     "output_type": "stream",
     "text": [
      "creating: createSequential\n",
      "creating: createReshape\n",
      "creating: createSpatialConvolution\n",
      "creating: createTanh\n",
      "creating: createSpatialMaxPooling\n",
      "creating: createTanh\n",
      "creating: createSpatialConvolution\n",
      "creating: createSpatialMaxPooling\n",
      "creating: createReshape\n",
      "creating: createLinear\n",
      "creating: createTanh\n",
      "creating: createLinear\n",
      "creating: createLogSoftMax\n"
     ]
    }
   ],
   "source": [
    "def build_model(class_num):\n",
    "    model = Sequential()\n",
    "    # Cambiamos el número de canales de entrada a 3\n",
    "    model.add(Reshape([3, 28, 28]))\n",
    "    # Ajustamos el número de canales de entrada en la primera capa convolucional\n",
    "    model.add(SpatialConvolution(3, 6, 5, 5).set_name('conv1'))\n",
    "    model.add(Tanh())\n",
    "    model.add(SpatialMaxPooling(2, 2, 2, 2).set_name('pool1'))\n",
    "    model.add(Tanh())\n",
    "    model.add(SpatialConvolution(6, 12, 5, 5).set_name('conv2'))\n",
    "    model.add(SpatialMaxPooling(2, 2, 2, 2).set_name('pool2'))\n",
    "    model.add(Reshape([12 * 4 * 4]))\n",
    "    model.add(Linear(12 * 4 * 4, 100).set_name('fc1'))\n",
    "    model.add(Tanh())\n",
    "    # Cambiamos el número de clases de salida a 2\n",
    "    model.add(Linear(100, class_num).set_name('score'))\n",
    "    model.add(LogSoftMax())\n",
    "    return model\n",
    "\n",
    "# Construimos el modelo con 2 clases de salida\n",
    "lenet_model = build_model(2)\n"
   ]
  },
  {
   "cell_type": "code",
   "execution_count": 25,
   "metadata": {},
   "outputs": [],
   "source": [
    "# 4. Crear RDDs de muestras\n",
    "\n",
    "def to_sample(image, label):\n",
    "    return Sample.from_ndarray(image, label)\n",
    "\n",
    "train_rdd = sc.parallelize(zip(train_imgs, train_lbls)).map(lambda x: to_sample(x[0], x[1])).cache()\n",
    "val_rdd = sc.parallelize(zip(val_imgs, val_lbls)).map(lambda x: to_sample(x[0], x[1])).cache()\n"
   ]
  },
  {
   "cell_type": "code",
   "execution_count": 26,
   "metadata": {},
   "outputs": [
    {
     "name": "stdout",
     "output_type": "stream",
     "text": [
      "creating: createClassNLLCriterion\n",
      "creating: createDefault\n",
      "creating: createSGD\n",
      "creating: createMaxEpoch\n",
      "creating: createDistriOptimizer\n",
      "creating: createEveryEpoch\n",
      "creating: createTop1Accuracy\n"
     ]
    }
   ],
   "source": [
    "# 6. Configurar el Optimizer con batch_size=40\n",
    "optimizer = Optimizer(\n",
    "    model=lenet_model,\n",
    "    training_rdd=train_rdd,\n",
    "    criterion=ClassNLLCriterion(),\n",
    "    optim_method=SGD(learningrate=0.01, learningrate_decay=0.0002),\n",
    "    end_trigger=MaxEpoch(20),\n",
    "    batch_size=40\n",
    ")\n",
    "\n",
    "# Configurar la lógica de validación con batch_size=40\n",
    "optimizer.set_validation(\n",
    "    batch_size=40,\n",
    "    val_rdd=val_rdd,\n",
    "    trigger=EveryEpoch(),\n",
    "    val_method=[Top1Accuracy()]\n",
    ")"
   ]
  },
  {
   "cell_type": "code",
   "execution_count": 27,
   "metadata": {},
   "outputs": [
    {
     "name": "stdout",
     "output_type": "stream",
     "text": [
      "creating: createTrainSummary\n",
      "creating: createSeveralIteration\n",
      "creating: createValidationSummary\n",
      "Saving logs to lenet-20241120-144539\n"
     ]
    }
   ],
   "source": [
    "# Configurar los resúmenes de entrenamiento y validación\n",
    "app_name = 'lenet-' + dt.datetime.now().strftime(\"%Y%m%d-%H%M%S\")\n",
    "train_summary = TrainSummary(log_dir='/tmp/bigdl_summaries',\n",
    "                             app_name=app_name)\n",
    "train_summary.set_summary_trigger(\"Parameters\", SeveralIteration(50))\n",
    "val_summary = ValidationSummary(log_dir='/tmp/bigdl_summaries',\n",
    "                                app_name=app_name)\n",
    "optimizer.set_train_summary(train_summary)\n",
    "optimizer.set_val_summary(val_summary)\n",
    "\n",
    "print(\"Saving logs to\", app_name)"
   ]
  },
  {
   "cell_type": "code",
   "execution_count": 28,
   "metadata": {},
   "outputs": [],
   "source": [
    "# 7. Entrenar el modelo\n",
    "trained_model = optimizer.optimize()"
   ]
  },
  {
   "cell_type": "code",
   "execution_count": 34,
   "metadata": {},
   "outputs": [
    {
     "name": "stdout",
     "output_type": "stream",
     "text": [
      "Modelo guardado en /workspace/output/lenet-20241120-144539_lenet_model\n"
     ]
    }
   ],
   "source": [
    "# 8. Guardar el modelo entrenado\n",
    "trained_model.save(f\"/workspace/output/{app_name}_lenet_model\")\n",
    "print(f\"Modelo guardado en /workspace/output/{app_name}_lenet_model\")"
   ]
  }
 ],
 "metadata": {
  "kernelspec": {
   "display_name": "Python 3",
   "language": "python",
   "name": "python3"
  },
  "language_info": {
   "codemirror_mode": {
    "name": "ipython",
    "version": 3
   },
   "file_extension": ".py",
   "mimetype": "text/x-python",
   "name": "python",
   "nbconvert_exporter": "python",
   "pygments_lexer": "ipython3",
   "version": "3.7.3"
  }
 },
 "nbformat": 4,
 "nbformat_minor": 2
}
