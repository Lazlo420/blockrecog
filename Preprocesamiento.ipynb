{
 "cells": [
  {
   "cell_type": "code",
   "execution_count": 15,
   "metadata": {},
   "outputs": [],
   "source": [
    "import pandas as pd\n",
    "import geopandas as gpd\n",
    "import os\n",
    "import numpy as np\n",
    "from PIL import Image\n",
    "from tqdm import tqdm\n",
    "from concurrent.futures import ThreadPoolExecutor\n",
    "import random\n",
    "import gc"
   ]
  },
  {
   "cell_type": "markdown",
   "metadata": {},
   "source": [
    "### Revision de estadisticas de la base (manzanas)"
   ]
  },
  {
   "cell_type": "code",
   "execution_count": 2,
   "metadata": {},
   "outputs": [
    {
     "name": "stderr",
     "output_type": "stream",
     "text": [
      "<>:1: SyntaxWarning: invalid escape sequence '\\m'\n",
      "<>:1: SyntaxWarning: invalid escape sequence '\\m'\n",
      "C:\\Users\\gonza\\AppData\\Local\\Temp\\ipykernel_20876\\1518693472.py:1: SyntaxWarning: invalid escape sequence '\\m'\n",
      "  amy_manz= gpd.read_file('og_base\\manzanas_caracterizadas_lima.shp')\n"
     ]
    }
   ],
   "source": [
    "amy_manz= gpd.read_file('og_base\\manzanas_caracterizadas_lima.shp')"
   ]
  },
  {
   "cell_type": "code",
   "execution_count": 3,
   "metadata": {},
   "outputs": [
    {
     "data": {
      "text/plain": [
       "NIV_VULNE\n",
       "ALTA         55529\n",
       "MUY ALTA     22671\n",
       "MEDIA        16580\n",
       "SIN VULNE     7476\n",
       "BAJA          4714\n",
       "Name: count, dtype: int64"
      ]
     },
     "execution_count": 3,
     "metadata": {},
     "output_type": "execute_result"
    }
   ],
   "source": [
    "amy_manz.NIV_VULNE.value_counts()"
   ]
  },
  {
   "cell_type": "code",
   "execution_count": 4,
   "metadata": {},
   "outputs": [],
   "source": [
    "filt_manz = amy_manz[(amy_manz.NIV_VULNE=='MUY ALTA') | (amy_manz.NIV_VULNE=='BAJA')]"
   ]
  },
  {
   "cell_type": "code",
   "execution_count": 6,
   "metadata": {},
   "outputs": [],
   "source": [
    "filt_manz.to_file('manzanas_filtradas_lima')"
   ]
  },
  {
   "cell_type": "markdown",
   "metadata": {},
   "source": [
    "### Tratamiento de imagenes"
   ]
  },
  {
   "cell_type": "markdown",
   "metadata": {},
   "source": [
    "Extrajimos las mascaras a traves de QGIS, del satelite de google earth\n",
    "\n",
    "El procesamiento a seguir para todas las imagenes es:\n",
    "- Reescalado de imagenes \n",
    "- Almacenamiento de las matrices en objetos .npy\n",
    "\n",
    "El procesamiento de las mascaras es:\n",
    "- Limpieza de clases (imagenes almacenadas en cmyk, transformacion a rgb y matrices con las clases por pixel)"
   ]
  },
  {
   "cell_type": "markdown",
   "metadata": {},
   "source": [
    "#### Limpieza de clases en las mascaras"
   ]
  },
  {
   "cell_type": "code",
   "execution_count": 6,
   "metadata": {},
   "outputs": [
    {
     "name": "stderr",
     "output_type": "stream",
     "text": [
      "<>:2: SyntaxWarning: invalid escape sequence '\\M'\n",
      "<>:3: SyntaxWarning: invalid escape sequence '\\p'\n",
      "<>:2: SyntaxWarning: invalid escape sequence '\\M'\n",
      "<>:3: SyntaxWarning: invalid escape sequence '\\p'\n",
      "C:\\Users\\gonza\\AppData\\Local\\Temp\\ipykernel_9844\\811419825.py:2: SyntaxWarning: invalid escape sequence '\\M'\n",
      "  mascaras_dir = \"Input\\Mascaras\"\n",
      "C:\\Users\\gonza\\AppData\\Local\\Temp\\ipykernel_9844\\811419825.py:3: SyntaxWarning: invalid escape sequence '\\p'\n",
      "  solucion_dir = \"Input\\puedo_arreglarlo\"\n"
     ]
    }
   ],
   "source": [
    "#Mis mascaras estan en:\n",
    "mascaras_dir = \"Input\\Mascaras\"\n",
    "solucion_dir = \"Input\\puedo_arreglarlo\"\n",
    "masc_par=[os.path.join(mascaras_dir,i) for i in os.listdir(mascaras_dir)]"
   ]
  },
  {
   "cell_type": "code",
   "execution_count": null,
   "metadata": {},
   "outputs": [
    {
     "name": "stderr",
     "output_type": "stream",
     "text": [
      "100%|██████████| 2779/2779 [23:49<00:00,  1.94it/s]\n"
     ]
    }
   ],
   "source": [
    "# Definimos los colores\n",
    "green = np.array([0, 255, 0])   # Clase 1\n",
    "red = np.array([255, 0, 0])     # Clase 2\n",
    "blue = np.array([0, 0, 255])     # Clase 3\n",
    "white = np.array([255, 255, 255])     # Clase 0 (fondo)\n",
    "black = np.array([0, 0, 0])     # Clase 0 (fondo)\n",
    "tolerance = 50\n",
    "\n",
    "def correct_and_convert_mask(file_path, output_dir):\n",
    "    \"\"\"\n",
    "    Corrige y convierte una máscara RGB a un canal de índices de clase.\n",
    "    Guarda directamente el resultado en el disco.\n",
    "    \"\"\"\n",
    "    # Cargamos la imagen\n",
    "    mask_rgb = np.array(Image.open(file_path).convert('RGB'))\n",
    "    \n",
    "    # Crear una máscara booleana para cada color con tolerancia\n",
    "    green_mask = np.all(np.abs(mask_rgb - green) <= tolerance, axis=-1)\n",
    "    red_mask = np.all(np.abs(mask_rgb - red) <= tolerance, axis=-1)\n",
    "    black_mask = np.all(np.abs(mask_rgb - black) <= tolerance, axis=-1)\n",
    "    blue_mask = np.all(np.abs(mask_rgb - blue) <= tolerance, axis=-1)\n",
    "    white_mask = np.all(np.abs(mask_rgb - white) <= tolerance, axis=-1)\n",
    "    \n",
    "    # Inicializar la máscara de un solo canal\n",
    "    mask_class = np.zeros((mask_rgb.shape[0], mask_rgb.shape[1]), dtype=np.uint8)\n",
    "    \n",
    "    # Asignar los índices de clase según las máscaras booleanas\n",
    "    mask_class[green_mask] = 1\n",
    "    mask_class[red_mask] = 2\n",
    "    mask_class[blue_mask] = 3\n",
    "    mask_class[black_mask] = 0\n",
    "    mask_class[white_mask] = 0\n",
    "\n",
    "    # Guardar la máscara procesada\n",
    "    output_path = os.path.join(output_dir, os.path.basename(file_path))\n",
    "    Image.fromarray(mask_class).save(output_path)\n",
    "    \n",
    "    # Liberar memoria\n",
    "    del mask_rgb, green_mask, red_mask, black_mask, mask_class\n",
    "    gc.collect()\n",
    "\n",
    "# Procesamiento en paralelo usando hilos\n",
    "def process_images(muestra, output_dir):\n",
    "    os.makedirs(output_dir, exist_ok=True)\n",
    "    with ThreadPoolExecutor(max_workers=4) as executor:\n",
    "        # Procesar y guardar directamente\n",
    "        list(tqdm(executor.map(lambda file: correct_and_convert_mask(file, output_dir), muestra), total=len(muestra)))\n",
    "\n",
    "# Subconjunto de imágenes a procesar (ya hice las primeras 7000 [:7000], luego otros 9000 [7000:16000])\n",
    "masc_par_subset = masc_par[16000:]\n",
    "\n",
    "\n",
    "# Procesar las imágenes\n",
    "process_images(masc_par_subset, solucion_dir)\n"
   ]
  },
  {
   "cell_type": "markdown",
   "metadata": {},
   "source": [
    "#### Reescalado de imagenes"
   ]
  },
  {
   "cell_type": "code",
   "execution_count": 41,
   "metadata": {},
   "outputs": [],
   "source": [
    "images_path = r'Input\\Masc_Sat'\n",
    "masks_path = r'Input\\puedo_arreglarlo'"
   ]
  },
  {
   "cell_type": "code",
   "execution_count": 42,
   "metadata": {},
   "outputs": [
    {
     "name": "stderr",
     "output_type": "stream",
     "text": [
      "100%|██████████| 27385/27385 [37:02<00:00, 12.32it/s]\n"
     ]
    }
   ],
   "source": [
    "def process_image(file_name):\n",
    "    sat_path = os.path.join(images_path, file_name)\n",
    "    mask_path = os.path.join(masks_path, file_name)\n",
    "    \n",
    "    np_sat = np.array(Image.open(sat_path).resize((256, 256)))[..., :3]\n",
    "    np_mask = np.array(Image.open(mask_path).resize((256, 256)))\n",
    "    return np_sat, np_mask\n",
    "\n",
    "with ThreadPoolExecutor(max_workers=5) as executor:\n",
    "    file_names = os.listdir(images_path)\n",
    "    \n",
    "    results = list(tqdm(executor.map(process_image, file_names), total=len(file_names)))\n",
    "\n",
    "# Separar los resultados en sat_recal y mask_recal\n",
    "sat_recal, mask_recal = zip(*results)"
   ]
  },
  {
   "cell_type": "code",
   "execution_count": 43,
   "metadata": {},
   "outputs": [],
   "source": [
    "sat_recal=np.array(sat_recal)\n",
    "mask_recal=np.array(mask_recal)"
   ]
  },
  {
   "cell_type": "code",
   "execution_count": 44,
   "metadata": {},
   "outputs": [],
   "source": [
    "np.save('sat.npy',sat_recal)\n",
    "np.save('mask.npy',mask_recal)"
   ]
  },
  {
   "cell_type": "markdown",
   "metadata": {},
   "source": [
    "#### Conteo de clases"
   ]
  },
  {
   "cell_type": "code",
   "execution_count": 45,
   "metadata": {},
   "outputs": [],
   "source": [
    "masks=[os.path.join(masks_path,i) for i in file_names]"
   ]
  },
  {
   "cell_type": "code",
   "execution_count": 16,
   "metadata": {},
   "outputs": [
    {
     "name": "stderr",
     "output_type": "stream",
     "text": [
      "<>:1: SyntaxWarning: invalid escape sequence '\\m'\n",
      "<>:3: SyntaxWarning: invalid escape sequence '\\s'\n",
      "<>:1: SyntaxWarning: invalid escape sequence '\\m'\n",
      "<>:3: SyntaxWarning: invalid escape sequence '\\s'\n",
      "C:\\Users\\gonza\\AppData\\Local\\Temp\\ipykernel_23168\\3221419892.py:1: SyntaxWarning: invalid escape sequence '\\m'\n",
      "  mascaras=np.load('Input\\mask.npy')\n",
      "C:\\Users\\gonza\\AppData\\Local\\Temp\\ipykernel_23168\\3221419892.py:3: SyntaxWarning: invalid escape sequence '\\s'\n",
      "  satelite=np.load('Input\\sat.npy')\n"
     ]
    }
   ],
   "source": [
    "mascaras=np.load('Input\\mask.npy')\n",
    "mascaras_conteo=np.where(mascaras != 0, 1, 0)\n",
    "satelite=np.load('Input\\sat.npy')"
   ]
  },
  {
   "cell_type": "code",
   "execution_count": 22,
   "metadata": {},
   "outputs": [
    {
     "name": "stderr",
     "output_type": "stream",
     "text": [
      "27385it [00:02, 11731.62it/s]\n"
     ]
    }
   ],
   "source": [
    "rescate_m=[]\n",
    "rescate_s=[]\n",
    "counters = {\"t_n\": 0, \"m_n\": 0, \"n_n\": 0}\n",
    "for i,m in tqdm(enumerate(mascaras_conteo)):\n",
    "    p= np.sum(m==0)/m.size\n",
    "    if p == 1.0:\n",
    "        counters[\"t_n\"] += 1\n",
    "    elif p > 0.6:\n",
    "        counters[\"m_n\"] += 1\n",
    "    else:\n",
    "        counters[\"n_n\"] += 1\n",
    "        rescate_m.append(mascaras[i])\n",
    "        rescate_s.append(satelite[i])"
   ]
  },
  {
   "cell_type": "code",
   "execution_count": 14,
   "metadata": {},
   "outputs": [
    {
     "name": "stdout",
     "output_type": "stream",
     "text": [
      "Negro Completo: 0.12\n",
      "Mayormente negro: 0.48\n",
      "Pog: 0.4\n",
      "\n"
     ]
    }
   ],
   "source": [
    "print(f\"\"\"Negro Completo: {round(counters[\"t_n\"] / 27385, 2)}\n",
    "Mayormente negro: {round(counters[\"m_n\"] / 27385, 2)}\n",
    "Pog: {round(counters[\"n_n\"] / 27385, 2)}\n",
    "\"\"\")\n"
   ]
  },
  {
   "cell_type": "code",
   "execution_count": 24,
   "metadata": {},
   "outputs": [],
   "source": [
    "np.save('f_sat.npy',np.array(rescate_s))\n",
    "np.save('f_mask.npy',np.array(rescate_m))"
   ]
  }
 ],
 "metadata": {
  "kernelspec": {
   "display_name": ".venv",
   "language": "python",
   "name": "python3"
  },
  "language_info": {
   "codemirror_mode": {
    "name": "ipython",
    "version": 3
   },
   "file_extension": ".py",
   "mimetype": "text/x-python",
   "name": "python",
   "nbconvert_exporter": "python",
   "pygments_lexer": "ipython3",
   "version": "3.12.7"
  }
 },
 "nbformat": 4,
 "nbformat_minor": 2
}
